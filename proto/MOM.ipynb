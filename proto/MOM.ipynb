{
  "cells": [
    {
      "cell_type": "markdown",
      "metadata": {
        "id": "f0KJlzRgLijp"
      },
      "source": [
        "Dependencies\n"
      ]
    },
    {
      "cell_type": "code",
      "execution_count": null,
      "metadata": {
        "colab": {
          "base_uri": "https://localhost:8080/"
        },
        "collapsed": true,
        "id": "bceBdimlLkgQ",
        "outputId": "9cb0b16e-b282-4224-caf5-ae2d51799879"
      },
      "outputs": [],
      "source": [
        "!apt-get install -y ffmpeg\n",
        "!pip install transformers torchaudio bitsandbytes\n"
      ]
    },
    {
      "cell_type": "code",
      "execution_count": null,
      "metadata": {
        "colab": {
          "base_uri": "https://localhost:8080/"
        },
        "id": "TGoHOkB7Hh68",
        "outputId": "911247d8-637a-4a7b-8491-aa6f503ff3de"
      },
      "outputs": [],
      "source": [
        "from google.colab import drive\n",
        "drive.mount('/content/drive')"
      ]
    },
    {
      "cell_type": "code",
      "execution_count": 3,
      "metadata": {
        "id": "QPyhObtxIT0G"
      },
      "outputs": [],
      "source": [
        "RECORDINGS_FOLDER = '/content/drive/MyDrive/Meet Recordings'\n"
      ]
    },
    {
      "cell_type": "code",
      "execution_count": null,
      "metadata": {
        "colab": {
          "base_uri": "https://localhost:8080/"
        },
        "id": "vk41KdAGId6Z",
        "outputId": "9d990a44-557f-46a3-bad9-5f0be828faf0"
      },
      "outputs": [],
      "source": [
        "import os\n",
        "\n",
        "entries = os.listdir(RECORDINGS_FOLDER)\n",
        "\n",
        "print(entries[6])"
      ]
    },
    {
      "cell_type": "code",
      "execution_count": 21,
      "metadata": {
        "id": "jhP5YDiRLj81"
      },
      "outputs": [],
      "source": [
        "video_filepath = f'/content/drive/MyDrive/Meet Recordings/{entries[6]}'\n",
        "audio_filepath = '/content/drive/MyDrive/Meet Recordings/meeting_audio.mp3'\n"
      ]
    },
    {
      "cell_type": "code",
      "execution_count": null,
      "metadata": {
        "colab": {
          "base_uri": "https://localhost:8080/"
        },
        "collapsed": true,
        "id": "-Eqc0o16L_RC",
        "outputId": "060438c9-f293-4d1a-e66b-c41f642f5fee"
      },
      "outputs": [],
      "source": [
        "!ffmpeg -i \"{video_filepath}\" -q:a 0 -map a \"{audio_filepath}\" -y\n"
      ]
    },
    {
      "cell_type": "code",
      "execution_count": 24,
      "metadata": {
        "id": "R0gVnzA-M_Ow"
      },
      "outputs": [],
      "source": [
        "import torch\n",
        "from transformers import pipeline, AutoModelForSpeechSeq2Seq, AutoProcessor"
      ]
    },
    {
      "cell_type": "code",
      "execution_count": null,
      "metadata": {
        "colab": {
          "base_uri": "https://localhost:8080/"
        },
        "id": "UtX2IAdtOleP",
        "outputId": "d6381be3-4f17-419c-d540-9299bed9c604"
      },
      "outputs": [],
      "source": [
        "AUDIO_MODEL = \"openai/whisper-medium\"\n",
        "print(\"Loading ASR model...\")\n",
        "speech_model = AutoModelForSpeechSeq2Seq.from_pretrained(\n",
        "    AUDIO_MODEL,\n",
        "    torch_dtype=torch.float16,\n",
        "    low_cpu_mem_usage=True\n",
        ")\n",
        "speech_model.to('cuda')\n",
        "processor = AutoProcessor.from_pretrained(AUDIO_MODEL)\n",
        "print(\"Model loaded!\")\n",
        "\n",
        "\n",
        "\n"
      ]
    },
    {
      "cell_type": "code",
      "execution_count": null,
      "metadata": {
        "colab": {
          "base_uri": "https://localhost:8080/"
        },
        "id": "FHsvKj7ZQYIt",
        "outputId": "9c3951e2-81f3-4b70-8931-4c7a804298a3"
      },
      "outputs": [],
      "source": [
        "asr_pipeline = pipeline(\n",
        "    \"automatic-speech-recognition\",\n",
        "    model=speech_model,\n",
        "    tokenizer=processor.tokenizer,\n",
        "    feature_extractor=processor.feature_extractor,\n",
        "    torch_dtype=torch.float16,\n",
        "    device=0,\n",
        "    return_timestamps=True\n",
        ")"
      ]
    },
    {
      "cell_type": "code",
      "execution_count": null,
      "metadata": {
        "colab": {
          "base_uri": "https://localhost:8080/"
        },
        "collapsed": true,
        "id": "iCbh6oyxQiML",
        "outputId": "710cfb3e-3618-41bd-d237-9ea177149612"
      },
      "outputs": [],
      "source": [
        "def transcribe_audio(audio_path):\n",
        "    print(f\"Transcribing: {audio_path}\")\n",
        "    result = asr_pipeline(audio_path)\n",
        "    transcript = result[\"text\"]\n",
        "    print(\"Transcription completed:\")\n",
        "    print(transcript)\n",
        "    return transcript\n",
        "\n",
        "transcript = transcribe_audio(audio_filepath)"
      ]
    },
    {
      "cell_type": "code",
      "execution_count": 28,
      "metadata": {
        "id": "EZn8uS9fRW_3"
      },
      "outputs": [],
      "source": [
        "from transformers import AutoTokenizer, AutoModelForCausalLM, BitsAndBytesConfig\n"
      ]
    },
    {
      "cell_type": "code",
      "execution_count": 29,
      "metadata": {
        "id": "auLWmDJzRd3L"
      },
      "outputs": [],
      "source": [
        "LLAMA_MODEL = \"meta-llama/Meta-Llama-3.1-8B-Instruct\"\n"
      ]
    },
    {
      "cell_type": "code",
      "execution_count": 30,
      "metadata": {
        "id": "vxiD5Ka-RmfR"
      },
      "outputs": [],
      "source": [
        "quant_config = BitsAndBytesConfig(\n",
        "    load_in_4bit=True,\n",
        "    bnb_4bit_use_double_quant=True,\n",
        "    bnb_4bit_compute_dtype=torch.bfloat16,\n",
        "    bnb_4bit_quant_type=\"nf4\"\n",
        ")\n"
      ]
    },
    {
      "cell_type": "code",
      "execution_count": null,
      "metadata": {
        "colab": {
          "base_uri": "https://localhost:8080/",
          "height": 49,
          "referenced_widgets": [
            "a1defbbe644444f79dae77bd85467246",
            "9b5dce4b118a47eb9b0da5c5ff360648",
            "efc1be3d20d04f15a273a67f7dad1e2e",
            "1cf53a1624e84a9aa9198d0198dd9c32",
            "5bae0244ac2e4fc18d7d97833648c969",
            "89be09564b80422b83f971da4fa54565",
            "20da259ca2a5420389840fb82f4dd603",
            "0f65d2b27ccd440fb6c8c3c4e9f480ca",
            "50bde7fa198a4d69a73e5416b1b64a4c",
            "e69777dbf31841239439a900c2831ce5",
            "83cd5e3fc95048f1bf1a6bf7ec9344ad"
          ]
        },
        "id": "2Ice7cq_SL1J",
        "outputId": "13126d46-1a18-4b90-9c33-c8e88800e67c"
      },
      "outputs": [],
      "source": [
        "tokenizer = AutoTokenizer.from_pretrained(LLAMA_MODEL)\n",
        "if tokenizer.pad_token is None:\n",
        "    tokenizer.pad_token = tokenizer.eos_token\n",
        "\n",
        "model = AutoModelForCausalLM.from_pretrained(\n",
        "    LLAMA_MODEL,\n",
        "    device_map=\"auto\",\n",
        "    quantization_config=quant_config\n",
        ")\n"
      ]
    },
    {
      "cell_type": "code",
      "execution_count": null,
      "metadata": {
        "colab": {
          "base_uri": "https://localhost:8080/"
        },
        "collapsed": true,
        "id": "LlwEzTxyU55I",
        "outputId": "2e1be96a-4e28-4a3c-b377-6ada9aeb73bf"
      },
      "outputs": [],
      "source": [
        "def generate_minutes(transcript_text):\n",
        "    \"\"\"\n",
        "    Generate meeting minutes in markdown format from a transcript.\n",
        "    The minutes include a summary, key discussion points, takeaways, and action items.\n",
        "    \"\"\"\n",
        "    prompt = (\n",
        "        \"You are an assistant that produces meeting minutes from transcripts. \"\n",
        "        \"Please generate meeting minutes in markdown format that strictly follow the template below:\\n\\n\"\n",
        "        \"### Meeting Minutes\\n\\n\"\n",
        "        \"**Summary:**\\n\"\n",
        "        \"- [Provide a concise summary of the meeting]\\n\\n\"\n",
        "        \"**Discussion Points:**\\n\"\n",
        "        \"- [List each discussion point with details]\\n\\n\"\n",
        "        \"**Takeaways:**\\n\"\n",
        "        \"- [List key takeaways from the meeting]\\n\\n\"\n",
        "        \"**Action Items:**\\n\"\n",
        "        \"- [List action items along with the designated owners]\\n\\n\"\n",
        "        \"Now, generate the meeting minutes for the following transcript:\\n\\n\" + transcript_text +\n",
        "        \"\\n\\n### MEETING MINUTES START\\n\"\n",
        "    )\n",
        "\n",
        "    inputs = tokenizer(prompt, return_tensors=\"pt\").to(\"cuda\")\n",
        "\n",
        "    output_ids = model.generate(\n",
        "        **inputs,\n",
        "        max_new_tokens=1024,\n",
        "        do_sample=True,\n",
        "        temperature=0.7\n",
        "    )\n",
        "    minutes = tokenizer.decode(output_ids[0], skip_special_tokens=True)\n",
        "    return minutes\n",
        "\n",
        "minutes_markdown = generate_minutes(transcript)\n",
        "print(\"Generated Meeting Minutes:\")\n",
        "print(minutes_markdown)"
      ]
    },
    {
      "cell_type": "code",
      "execution_count": 39,
      "metadata": {
        "id": "6vBkk85eVz4W"
      },
      "outputs": [],
      "source": [
        "import smtplib\n",
        "from email.mime.text import MIMEText\n"
      ]
    },
    {
      "cell_type": "code",
      "execution_count": null,
      "metadata": {
        "colab": {
          "base_uri": "https://localhost:8080/"
        },
        "id": "oBjrn5hGV4NL",
        "outputId": "31faca8d-12b2-4e99-d262-e0d80be20532"
      },
      "outputs": [],
      "source": [
        "def send_email(subject, body, recipient, sender_email, sender_password):\n",
        "    msg = MIMEText(body, \"plain\")\n",
        "    msg[\"Subject\"] = subject\n",
        "    msg[\"From\"] = sender_email\n",
        "    msg[\"To\"] = recipient\n",
        "\n",
        "    with smtplib.SMTP(\"smtp.gmail.com\", 587) as server:\n",
        "        server.starttls()\n",
        "        server.login(sender_email, sender_password)\n",
        "        server.sendmail(sender_email, [recipient], msg.as_string())\n",
        "    print(f\"Email sent to {recipient}.\")\n",
        "\n",
        "separator = \"### MEETING MINUTES START\"\n",
        "if separator in minutes_markdown:\n",
        "    cleaned_minutes = minutes_markdown.split(separator, 1)[1].strip()\n",
        "else:\n",
        "    cleaned_minutes = minutes_markdown\n",
        "\n",
        "SENDER_EMAIL = \"sarangshibu98@gmail.com\"\n",
        "SENDER_PASSWORD = \"**********************\"\n",
        "RECIPIENT_EMAIL = \"sarangshibu98@gmail.com\"\n",
        "\n",
        "send_email(\"Meeting Minutes\", cleaned_minutes, RECIPIENT_EMAIL, SENDER_EMAIL, SENDER_PASSWORD)\n",
        "\n",
        "\n",
        "\n"
      ]
    }
  ],
  "metadata": {
    "colab": {
      "provenance": []
    },
    "kernelspec": {
      "display_name": "Python 3",
      "name": "python3"
    },
    "language_info": {
      "name": "python"
    },
    "widgets": {
      "application/vnd.jupyter.widget-state+json": {
        "0f65d2b27ccd440fb6c8c3c4e9f480ca": {
          "model_module": "@jupyter-widgets/base",
          "model_module_version": "1.2.0",
          "model_name": "LayoutModel",
          "state": {
            "_model_module": "@jupyter-widgets/base",
            "_model_module_version": "1.2.0",
            "_model_name": "LayoutModel",
            "_view_count": null,
            "_view_module": "@jupyter-widgets/base",
            "_view_module_version": "1.2.0",
            "_view_name": "LayoutView",
            "align_content": null,
            "align_items": null,
            "align_self": null,
            "border": null,
            "bottom": null,
            "display": null,
            "flex": null,
            "flex_flow": null,
            "grid_area": null,
            "grid_auto_columns": null,
            "grid_auto_flow": null,
            "grid_auto_rows": null,
            "grid_column": null,
            "grid_gap": null,
            "grid_row": null,
            "grid_template_areas": null,
            "grid_template_columns": null,
            "grid_template_rows": null,
            "height": null,
            "justify_content": null,
            "justify_items": null,
            "left": null,
            "margin": null,
            "max_height": null,
            "max_width": null,
            "min_height": null,
            "min_width": null,
            "object_fit": null,
            "object_position": null,
            "order": null,
            "overflow": null,
            "overflow_x": null,
            "overflow_y": null,
            "padding": null,
            "right": null,
            "top": null,
            "visibility": null,
            "width": null
          }
        },
        "1cf53a1624e84a9aa9198d0198dd9c32": {
          "model_module": "@jupyter-widgets/controls",
          "model_module_version": "1.5.0",
          "model_name": "HTMLModel",
          "state": {
            "_dom_classes": [],
            "_model_module": "@jupyter-widgets/controls",
            "_model_module_version": "1.5.0",
            "_model_name": "HTMLModel",
            "_view_count": null,
            "_view_module": "@jupyter-widgets/controls",
            "_view_module_version": "1.5.0",
            "_view_name": "HTMLView",
            "description": "",
            "description_tooltip": null,
            "layout": "IPY_MODEL_e69777dbf31841239439a900c2831ce5",
            "placeholder": "​",
            "style": "IPY_MODEL_83cd5e3fc95048f1bf1a6bf7ec9344ad",
            "value": " 4/4 [01:28&lt;00:00, 18.98s/it]"
          }
        },
        "20da259ca2a5420389840fb82f4dd603": {
          "model_module": "@jupyter-widgets/controls",
          "model_module_version": "1.5.0",
          "model_name": "DescriptionStyleModel",
          "state": {
            "_model_module": "@jupyter-widgets/controls",
            "_model_module_version": "1.5.0",
            "_model_name": "DescriptionStyleModel",
            "_view_count": null,
            "_view_module": "@jupyter-widgets/base",
            "_view_module_version": "1.2.0",
            "_view_name": "StyleView",
            "description_width": ""
          }
        },
        "50bde7fa198a4d69a73e5416b1b64a4c": {
          "model_module": "@jupyter-widgets/controls",
          "model_module_version": "1.5.0",
          "model_name": "ProgressStyleModel",
          "state": {
            "_model_module": "@jupyter-widgets/controls",
            "_model_module_version": "1.5.0",
            "_model_name": "ProgressStyleModel",
            "_view_count": null,
            "_view_module": "@jupyter-widgets/base",
            "_view_module_version": "1.2.0",
            "_view_name": "StyleView",
            "bar_color": null,
            "description_width": ""
          }
        },
        "5bae0244ac2e4fc18d7d97833648c969": {
          "model_module": "@jupyter-widgets/base",
          "model_module_version": "1.2.0",
          "model_name": "LayoutModel",
          "state": {
            "_model_module": "@jupyter-widgets/base",
            "_model_module_version": "1.2.0",
            "_model_name": "LayoutModel",
            "_view_count": null,
            "_view_module": "@jupyter-widgets/base",
            "_view_module_version": "1.2.0",
            "_view_name": "LayoutView",
            "align_content": null,
            "align_items": null,
            "align_self": null,
            "border": null,
            "bottom": null,
            "display": null,
            "flex": null,
            "flex_flow": null,
            "grid_area": null,
            "grid_auto_columns": null,
            "grid_auto_flow": null,
            "grid_auto_rows": null,
            "grid_column": null,
            "grid_gap": null,
            "grid_row": null,
            "grid_template_areas": null,
            "grid_template_columns": null,
            "grid_template_rows": null,
            "height": null,
            "justify_content": null,
            "justify_items": null,
            "left": null,
            "margin": null,
            "max_height": null,
            "max_width": null,
            "min_height": null,
            "min_width": null,
            "object_fit": null,
            "object_position": null,
            "order": null,
            "overflow": null,
            "overflow_x": null,
            "overflow_y": null,
            "padding": null,
            "right": null,
            "top": null,
            "visibility": null,
            "width": null
          }
        },
        "83cd5e3fc95048f1bf1a6bf7ec9344ad": {
          "model_module": "@jupyter-widgets/controls",
          "model_module_version": "1.5.0",
          "model_name": "DescriptionStyleModel",
          "state": {
            "_model_module": "@jupyter-widgets/controls",
            "_model_module_version": "1.5.0",
            "_model_name": "DescriptionStyleModel",
            "_view_count": null,
            "_view_module": "@jupyter-widgets/base",
            "_view_module_version": "1.2.0",
            "_view_name": "StyleView",
            "description_width": ""
          }
        },
        "89be09564b80422b83f971da4fa54565": {
          "model_module": "@jupyter-widgets/base",
          "model_module_version": "1.2.0",
          "model_name": "LayoutModel",
          "state": {
            "_model_module": "@jupyter-widgets/base",
            "_model_module_version": "1.2.0",
            "_model_name": "LayoutModel",
            "_view_count": null,
            "_view_module": "@jupyter-widgets/base",
            "_view_module_version": "1.2.0",
            "_view_name": "LayoutView",
            "align_content": null,
            "align_items": null,
            "align_self": null,
            "border": null,
            "bottom": null,
            "display": null,
            "flex": null,
            "flex_flow": null,
            "grid_area": null,
            "grid_auto_columns": null,
            "grid_auto_flow": null,
            "grid_auto_rows": null,
            "grid_column": null,
            "grid_gap": null,
            "grid_row": null,
            "grid_template_areas": null,
            "grid_template_columns": null,
            "grid_template_rows": null,
            "height": null,
            "justify_content": null,
            "justify_items": null,
            "left": null,
            "margin": null,
            "max_height": null,
            "max_width": null,
            "min_height": null,
            "min_width": null,
            "object_fit": null,
            "object_position": null,
            "order": null,
            "overflow": null,
            "overflow_x": null,
            "overflow_y": null,
            "padding": null,
            "right": null,
            "top": null,
            "visibility": null,
            "width": null
          }
        },
        "9b5dce4b118a47eb9b0da5c5ff360648": {
          "model_module": "@jupyter-widgets/controls",
          "model_module_version": "1.5.0",
          "model_name": "HTMLModel",
          "state": {
            "_dom_classes": [],
            "_model_module": "@jupyter-widgets/controls",
            "_model_module_version": "1.5.0",
            "_model_name": "HTMLModel",
            "_view_count": null,
            "_view_module": "@jupyter-widgets/controls",
            "_view_module_version": "1.5.0",
            "_view_name": "HTMLView",
            "description": "",
            "description_tooltip": null,
            "layout": "IPY_MODEL_89be09564b80422b83f971da4fa54565",
            "placeholder": "​",
            "style": "IPY_MODEL_20da259ca2a5420389840fb82f4dd603",
            "value": "Loading checkpoint shards: 100%"
          }
        },
        "a1defbbe644444f79dae77bd85467246": {
          "model_module": "@jupyter-widgets/controls",
          "model_module_version": "1.5.0",
          "model_name": "HBoxModel",
          "state": {
            "_dom_classes": [],
            "_model_module": "@jupyter-widgets/controls",
            "_model_module_version": "1.5.0",
            "_model_name": "HBoxModel",
            "_view_count": null,
            "_view_module": "@jupyter-widgets/controls",
            "_view_module_version": "1.5.0",
            "_view_name": "HBoxView",
            "box_style": "",
            "children": [
              "IPY_MODEL_9b5dce4b118a47eb9b0da5c5ff360648",
              "IPY_MODEL_efc1be3d20d04f15a273a67f7dad1e2e",
              "IPY_MODEL_1cf53a1624e84a9aa9198d0198dd9c32"
            ],
            "layout": "IPY_MODEL_5bae0244ac2e4fc18d7d97833648c969"
          }
        },
        "e69777dbf31841239439a900c2831ce5": {
          "model_module": "@jupyter-widgets/base",
          "model_module_version": "1.2.0",
          "model_name": "LayoutModel",
          "state": {
            "_model_module": "@jupyter-widgets/base",
            "_model_module_version": "1.2.0",
            "_model_name": "LayoutModel",
            "_view_count": null,
            "_view_module": "@jupyter-widgets/base",
            "_view_module_version": "1.2.0",
            "_view_name": "LayoutView",
            "align_content": null,
            "align_items": null,
            "align_self": null,
            "border": null,
            "bottom": null,
            "display": null,
            "flex": null,
            "flex_flow": null,
            "grid_area": null,
            "grid_auto_columns": null,
            "grid_auto_flow": null,
            "grid_auto_rows": null,
            "grid_column": null,
            "grid_gap": null,
            "grid_row": null,
            "grid_template_areas": null,
            "grid_template_columns": null,
            "grid_template_rows": null,
            "height": null,
            "justify_content": null,
            "justify_items": null,
            "left": null,
            "margin": null,
            "max_height": null,
            "max_width": null,
            "min_height": null,
            "min_width": null,
            "object_fit": null,
            "object_position": null,
            "order": null,
            "overflow": null,
            "overflow_x": null,
            "overflow_y": null,
            "padding": null,
            "right": null,
            "top": null,
            "visibility": null,
            "width": null
          }
        },
        "efc1be3d20d04f15a273a67f7dad1e2e": {
          "model_module": "@jupyter-widgets/controls",
          "model_module_version": "1.5.0",
          "model_name": "FloatProgressModel",
          "state": {
            "_dom_classes": [],
            "_model_module": "@jupyter-widgets/controls",
            "_model_module_version": "1.5.0",
            "_model_name": "FloatProgressModel",
            "_view_count": null,
            "_view_module": "@jupyter-widgets/controls",
            "_view_module_version": "1.5.0",
            "_view_name": "ProgressView",
            "bar_style": "success",
            "description": "",
            "description_tooltip": null,
            "layout": "IPY_MODEL_0f65d2b27ccd440fb6c8c3c4e9f480ca",
            "max": 4,
            "min": 0,
            "orientation": "horizontal",
            "style": "IPY_MODEL_50bde7fa198a4d69a73e5416b1b64a4c",
            "value": 4
          }
        }
      }
    }
  },
  "nbformat": 4,
  "nbformat_minor": 0
}

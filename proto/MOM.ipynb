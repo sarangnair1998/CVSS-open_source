{
  "nbformat": 4,
  "nbformat_minor": 0,
  "metadata": {
    "colab": {
      "provenance": []
    },
    "kernelspec": {
      "name": "python3",
      "display_name": "Python 3"
    },
    "language_info": {
      "name": "python"
    },
    "widgets": {
      "application/vnd.jupyter.widget-state+json": {
        "a1defbbe644444f79dae77bd85467246": {
          "model_module": "@jupyter-widgets/controls",
          "model_name": "HBoxModel",
          "model_module_version": "1.5.0",
          "state": {
            "_dom_classes": [],
            "_model_module": "@jupyter-widgets/controls",
            "_model_module_version": "1.5.0",
            "_model_name": "HBoxModel",
            "_view_count": null,
            "_view_module": "@jupyter-widgets/controls",
            "_view_module_version": "1.5.0",
            "_view_name": "HBoxView",
            "box_style": "",
            "children": [
              "IPY_MODEL_9b5dce4b118a47eb9b0da5c5ff360648",
              "IPY_MODEL_efc1be3d20d04f15a273a67f7dad1e2e",
              "IPY_MODEL_1cf53a1624e84a9aa9198d0198dd9c32"
            ],
            "layout": "IPY_MODEL_5bae0244ac2e4fc18d7d97833648c969"
          }
        },
        "9b5dce4b118a47eb9b0da5c5ff360648": {
          "model_module": "@jupyter-widgets/controls",
          "model_name": "HTMLModel",
          "model_module_version": "1.5.0",
          "state": {
            "_dom_classes": [],
            "_model_module": "@jupyter-widgets/controls",
            "_model_module_version": "1.5.0",
            "_model_name": "HTMLModel",
            "_view_count": null,
            "_view_module": "@jupyter-widgets/controls",
            "_view_module_version": "1.5.0",
            "_view_name": "HTMLView",
            "description": "",
            "description_tooltip": null,
            "layout": "IPY_MODEL_89be09564b80422b83f971da4fa54565",
            "placeholder": "​",
            "style": "IPY_MODEL_20da259ca2a5420389840fb82f4dd603",
            "value": "Loading checkpoint shards: 100%"
          }
        },
        "efc1be3d20d04f15a273a67f7dad1e2e": {
          "model_module": "@jupyter-widgets/controls",
          "model_name": "FloatProgressModel",
          "model_module_version": "1.5.0",
          "state": {
            "_dom_classes": [],
            "_model_module": "@jupyter-widgets/controls",
            "_model_module_version": "1.5.0",
            "_model_name": "FloatProgressModel",
            "_view_count": null,
            "_view_module": "@jupyter-widgets/controls",
            "_view_module_version": "1.5.0",
            "_view_name": "ProgressView",
            "bar_style": "success",
            "description": "",
            "description_tooltip": null,
            "layout": "IPY_MODEL_0f65d2b27ccd440fb6c8c3c4e9f480ca",
            "max": 4,
            "min": 0,
            "orientation": "horizontal",
            "style": "IPY_MODEL_50bde7fa198a4d69a73e5416b1b64a4c",
            "value": 4
          }
        },
        "1cf53a1624e84a9aa9198d0198dd9c32": {
          "model_module": "@jupyter-widgets/controls",
          "model_name": "HTMLModel",
          "model_module_version": "1.5.0",
          "state": {
            "_dom_classes": [],
            "_model_module": "@jupyter-widgets/controls",
            "_model_module_version": "1.5.0",
            "_model_name": "HTMLModel",
            "_view_count": null,
            "_view_module": "@jupyter-widgets/controls",
            "_view_module_version": "1.5.0",
            "_view_name": "HTMLView",
            "description": "",
            "description_tooltip": null,
            "layout": "IPY_MODEL_e69777dbf31841239439a900c2831ce5",
            "placeholder": "​",
            "style": "IPY_MODEL_83cd5e3fc95048f1bf1a6bf7ec9344ad",
            "value": " 4/4 [01:28&lt;00:00, 18.98s/it]"
          }
        },
        "5bae0244ac2e4fc18d7d97833648c969": {
          "model_module": "@jupyter-widgets/base",
          "model_name": "LayoutModel",
          "model_module_version": "1.2.0",
          "state": {
            "_model_module": "@jupyter-widgets/base",
            "_model_module_version": "1.2.0",
            "_model_name": "LayoutModel",
            "_view_count": null,
            "_view_module": "@jupyter-widgets/base",
            "_view_module_version": "1.2.0",
            "_view_name": "LayoutView",
            "align_content": null,
            "align_items": null,
            "align_self": null,
            "border": null,
            "bottom": null,
            "display": null,
            "flex": null,
            "flex_flow": null,
            "grid_area": null,
            "grid_auto_columns": null,
            "grid_auto_flow": null,
            "grid_auto_rows": null,
            "grid_column": null,
            "grid_gap": null,
            "grid_row": null,
            "grid_template_areas": null,
            "grid_template_columns": null,
            "grid_template_rows": null,
            "height": null,
            "justify_content": null,
            "justify_items": null,
            "left": null,
            "margin": null,
            "max_height": null,
            "max_width": null,
            "min_height": null,
            "min_width": null,
            "object_fit": null,
            "object_position": null,
            "order": null,
            "overflow": null,
            "overflow_x": null,
            "overflow_y": null,
            "padding": null,
            "right": null,
            "top": null,
            "visibility": null,
            "width": null
          }
        },
        "89be09564b80422b83f971da4fa54565": {
          "model_module": "@jupyter-widgets/base",
          "model_name": "LayoutModel",
          "model_module_version": "1.2.0",
          "state": {
            "_model_module": "@jupyter-widgets/base",
            "_model_module_version": "1.2.0",
            "_model_name": "LayoutModel",
            "_view_count": null,
            "_view_module": "@jupyter-widgets/base",
            "_view_module_version": "1.2.0",
            "_view_name": "LayoutView",
            "align_content": null,
            "align_items": null,
            "align_self": null,
            "border": null,
            "bottom": null,
            "display": null,
            "flex": null,
            "flex_flow": null,
            "grid_area": null,
            "grid_auto_columns": null,
            "grid_auto_flow": null,
            "grid_auto_rows": null,
            "grid_column": null,
            "grid_gap": null,
            "grid_row": null,
            "grid_template_areas": null,
            "grid_template_columns": null,
            "grid_template_rows": null,
            "height": null,
            "justify_content": null,
            "justify_items": null,
            "left": null,
            "margin": null,
            "max_height": null,
            "max_width": null,
            "min_height": null,
            "min_width": null,
            "object_fit": null,
            "object_position": null,
            "order": null,
            "overflow": null,
            "overflow_x": null,
            "overflow_y": null,
            "padding": null,
            "right": null,
            "top": null,
            "visibility": null,
            "width": null
          }
        },
        "20da259ca2a5420389840fb82f4dd603": {
          "model_module": "@jupyter-widgets/controls",
          "model_name": "DescriptionStyleModel",
          "model_module_version": "1.5.0",
          "state": {
            "_model_module": "@jupyter-widgets/controls",
            "_model_module_version": "1.5.0",
            "_model_name": "DescriptionStyleModel",
            "_view_count": null,
            "_view_module": "@jupyter-widgets/base",
            "_view_module_version": "1.2.0",
            "_view_name": "StyleView",
            "description_width": ""
          }
        },
        "0f65d2b27ccd440fb6c8c3c4e9f480ca": {
          "model_module": "@jupyter-widgets/base",
          "model_name": "LayoutModel",
          "model_module_version": "1.2.0",
          "state": {
            "_model_module": "@jupyter-widgets/base",
            "_model_module_version": "1.2.0",
            "_model_name": "LayoutModel",
            "_view_count": null,
            "_view_module": "@jupyter-widgets/base",
            "_view_module_version": "1.2.0",
            "_view_name": "LayoutView",
            "align_content": null,
            "align_items": null,
            "align_self": null,
            "border": null,
            "bottom": null,
            "display": null,
            "flex": null,
            "flex_flow": null,
            "grid_area": null,
            "grid_auto_columns": null,
            "grid_auto_flow": null,
            "grid_auto_rows": null,
            "grid_column": null,
            "grid_gap": null,
            "grid_row": null,
            "grid_template_areas": null,
            "grid_template_columns": null,
            "grid_template_rows": null,
            "height": null,
            "justify_content": null,
            "justify_items": null,
            "left": null,
            "margin": null,
            "max_height": null,
            "max_width": null,
            "min_height": null,
            "min_width": null,
            "object_fit": null,
            "object_position": null,
            "order": null,
            "overflow": null,
            "overflow_x": null,
            "overflow_y": null,
            "padding": null,
            "right": null,
            "top": null,
            "visibility": null,
            "width": null
          }
        },
        "50bde7fa198a4d69a73e5416b1b64a4c": {
          "model_module": "@jupyter-widgets/controls",
          "model_name": "ProgressStyleModel",
          "model_module_version": "1.5.0",
          "state": {
            "_model_module": "@jupyter-widgets/controls",
            "_model_module_version": "1.5.0",
            "_model_name": "ProgressStyleModel",
            "_view_count": null,
            "_view_module": "@jupyter-widgets/base",
            "_view_module_version": "1.2.0",
            "_view_name": "StyleView",
            "bar_color": null,
            "description_width": ""
          }
        },
        "e69777dbf31841239439a900c2831ce5": {
          "model_module": "@jupyter-widgets/base",
          "model_name": "LayoutModel",
          "model_module_version": "1.2.0",
          "state": {
            "_model_module": "@jupyter-widgets/base",
            "_model_module_version": "1.2.0",
            "_model_name": "LayoutModel",
            "_view_count": null,
            "_view_module": "@jupyter-widgets/base",
            "_view_module_version": "1.2.0",
            "_view_name": "LayoutView",
            "align_content": null,
            "align_items": null,
            "align_self": null,
            "border": null,
            "bottom": null,
            "display": null,
            "flex": null,
            "flex_flow": null,
            "grid_area": null,
            "grid_auto_columns": null,
            "grid_auto_flow": null,
            "grid_auto_rows": null,
            "grid_column": null,
            "grid_gap": null,
            "grid_row": null,
            "grid_template_areas": null,
            "grid_template_columns": null,
            "grid_template_rows": null,
            "height": null,
            "justify_content": null,
            "justify_items": null,
            "left": null,
            "margin": null,
            "max_height": null,
            "max_width": null,
            "min_height": null,
            "min_width": null,
            "object_fit": null,
            "object_position": null,
            "order": null,
            "overflow": null,
            "overflow_x": null,
            "overflow_y": null,
            "padding": null,
            "right": null,
            "top": null,
            "visibility": null,
            "width": null
          }
        },
        "83cd5e3fc95048f1bf1a6bf7ec9344ad": {
          "model_module": "@jupyter-widgets/controls",
          "model_name": "DescriptionStyleModel",
          "model_module_version": "1.5.0",
          "state": {
            "_model_module": "@jupyter-widgets/controls",
            "_model_module_version": "1.5.0",
            "_model_name": "DescriptionStyleModel",
            "_view_count": null,
            "_view_module": "@jupyter-widgets/base",
            "_view_module_version": "1.2.0",
            "_view_name": "StyleView",
            "description_width": ""
          }
        }
      }
    }
  },
  "cells": [
    {
      "cell_type": "markdown",
      "source": [
        "Dependencies\n"
      ],
      "metadata": {
        "id": "f0KJlzRgLijp"
      }
    },
    {
      "cell_type": "code",
      "source": [
        "!apt-get install -y ffmpeg\n",
        "!pip install transformers torchaudio bitsandbytes\n"
      ],
      "metadata": {
        "colab": {
          "base_uri": "https://localhost:8080/"
        },
        "collapsed": true,
        "id": "bceBdimlLkgQ",
        "outputId": "9cb0b16e-b282-4224-caf5-ae2d51799879"
      },
      "execution_count": 1,
      "outputs": [
        {
          "output_type": "stream",
          "name": "stdout",
          "text": [
            "Reading package lists... Done\n",
            "Building dependency tree... Done\n",
            "Reading state information... Done\n",
            "ffmpeg is already the newest version (7:4.4.2-0ubuntu0.22.04.1).\n",
            "0 upgraded, 0 newly installed, 0 to remove and 18 not upgraded.\n",
            "Requirement already satisfied: transformers in /usr/local/lib/python3.11/dist-packages (4.47.1)\n",
            "Requirement already satisfied: torchaudio in /usr/local/lib/python3.11/dist-packages (2.5.1+cu124)\n",
            "Requirement already satisfied: bitsandbytes in /usr/local/lib/python3.11/dist-packages (0.45.1)\n",
            "Requirement already satisfied: filelock in /usr/local/lib/python3.11/dist-packages (from transformers) (3.17.0)\n",
            "Requirement already satisfied: huggingface-hub<1.0,>=0.24.0 in /usr/local/lib/python3.11/dist-packages (from transformers) (0.27.1)\n",
            "Requirement already satisfied: numpy>=1.17 in /usr/local/lib/python3.11/dist-packages (from transformers) (1.26.4)\n",
            "Requirement already satisfied: packaging>=20.0 in /usr/local/lib/python3.11/dist-packages (from transformers) (24.2)\n",
            "Requirement already satisfied: pyyaml>=5.1 in /usr/local/lib/python3.11/dist-packages (from transformers) (6.0.2)\n",
            "Requirement already satisfied: regex!=2019.12.17 in /usr/local/lib/python3.11/dist-packages (from transformers) (2024.11.6)\n",
            "Requirement already satisfied: requests in /usr/local/lib/python3.11/dist-packages (from transformers) (2.32.3)\n",
            "Requirement already satisfied: tokenizers<0.22,>=0.21 in /usr/local/lib/python3.11/dist-packages (from transformers) (0.21.0)\n",
            "Requirement already satisfied: safetensors>=0.4.1 in /usr/local/lib/python3.11/dist-packages (from transformers) (0.5.2)\n",
            "Requirement already satisfied: tqdm>=4.27 in /usr/local/lib/python3.11/dist-packages (from transformers) (4.67.1)\n",
            "Requirement already satisfied: torch==2.5.1 in /usr/local/lib/python3.11/dist-packages (from torchaudio) (2.5.1+cu124)\n",
            "Requirement already satisfied: typing-extensions>=4.8.0 in /usr/local/lib/python3.11/dist-packages (from torch==2.5.1->torchaudio) (4.12.2)\n",
            "Requirement already satisfied: networkx in /usr/local/lib/python3.11/dist-packages (from torch==2.5.1->torchaudio) (3.4.2)\n",
            "Requirement already satisfied: jinja2 in /usr/local/lib/python3.11/dist-packages (from torch==2.5.1->torchaudio) (3.1.5)\n",
            "Requirement already satisfied: fsspec in /usr/local/lib/python3.11/dist-packages (from torch==2.5.1->torchaudio) (2024.10.0)\n",
            "Requirement already satisfied: nvidia-cuda-nvrtc-cu12==12.4.127 in /usr/local/lib/python3.11/dist-packages (from torch==2.5.1->torchaudio) (12.4.127)\n",
            "Requirement already satisfied: nvidia-cuda-runtime-cu12==12.4.127 in /usr/local/lib/python3.11/dist-packages (from torch==2.5.1->torchaudio) (12.4.127)\n",
            "Requirement already satisfied: nvidia-cuda-cupti-cu12==12.4.127 in /usr/local/lib/python3.11/dist-packages (from torch==2.5.1->torchaudio) (12.4.127)\n",
            "Requirement already satisfied: nvidia-cudnn-cu12==9.1.0.70 in /usr/local/lib/python3.11/dist-packages (from torch==2.5.1->torchaudio) (9.1.0.70)\n",
            "Requirement already satisfied: nvidia-cublas-cu12==12.4.5.8 in /usr/local/lib/python3.11/dist-packages (from torch==2.5.1->torchaudio) (12.4.5.8)\n",
            "Requirement already satisfied: nvidia-cufft-cu12==11.2.1.3 in /usr/local/lib/python3.11/dist-packages (from torch==2.5.1->torchaudio) (11.2.1.3)\n",
            "Requirement already satisfied: nvidia-curand-cu12==10.3.5.147 in /usr/local/lib/python3.11/dist-packages (from torch==2.5.1->torchaudio) (10.3.5.147)\n",
            "Requirement already satisfied: nvidia-cusolver-cu12==11.6.1.9 in /usr/local/lib/python3.11/dist-packages (from torch==2.5.1->torchaudio) (11.6.1.9)\n",
            "Requirement already satisfied: nvidia-cusparse-cu12==12.3.1.170 in /usr/local/lib/python3.11/dist-packages (from torch==2.5.1->torchaudio) (12.3.1.170)\n",
            "Requirement already satisfied: nvidia-nccl-cu12==2.21.5 in /usr/local/lib/python3.11/dist-packages (from torch==2.5.1->torchaudio) (2.21.5)\n",
            "Requirement already satisfied: nvidia-nvtx-cu12==12.4.127 in /usr/local/lib/python3.11/dist-packages (from torch==2.5.1->torchaudio) (12.4.127)\n",
            "Requirement already satisfied: nvidia-nvjitlink-cu12==12.4.127 in /usr/local/lib/python3.11/dist-packages (from torch==2.5.1->torchaudio) (12.4.127)\n",
            "Requirement already satisfied: triton==3.1.0 in /usr/local/lib/python3.11/dist-packages (from torch==2.5.1->torchaudio) (3.1.0)\n",
            "Requirement already satisfied: sympy==1.13.1 in /usr/local/lib/python3.11/dist-packages (from torch==2.5.1->torchaudio) (1.13.1)\n",
            "Requirement already satisfied: mpmath<1.4,>=1.1.0 in /usr/local/lib/python3.11/dist-packages (from sympy==1.13.1->torch==2.5.1->torchaudio) (1.3.0)\n",
            "Requirement already satisfied: charset-normalizer<4,>=2 in /usr/local/lib/python3.11/dist-packages (from requests->transformers) (3.4.1)\n",
            "Requirement already satisfied: idna<4,>=2.5 in /usr/local/lib/python3.11/dist-packages (from requests->transformers) (3.10)\n",
            "Requirement already satisfied: urllib3<3,>=1.21.1 in /usr/local/lib/python3.11/dist-packages (from requests->transformers) (2.3.0)\n",
            "Requirement already satisfied: certifi>=2017.4.17 in /usr/local/lib/python3.11/dist-packages (from requests->transformers) (2024.12.14)\n",
            "Requirement already satisfied: MarkupSafe>=2.0 in /usr/local/lib/python3.11/dist-packages (from jinja2->torch==2.5.1->torchaudio) (3.0.2)\n"
          ]
        }
      ]
    },
    {
      "cell_type": "code",
      "execution_count": 2,
      "metadata": {
        "colab": {
          "base_uri": "https://localhost:8080/"
        },
        "id": "TGoHOkB7Hh68",
        "outputId": "911247d8-637a-4a7b-8491-aa6f503ff3de"
      },
      "outputs": [
        {
          "output_type": "stream",
          "name": "stdout",
          "text": [
            "Drive already mounted at /content/drive; to attempt to forcibly remount, call drive.mount(\"/content/drive\", force_remount=True).\n"
          ]
        }
      ],
      "source": [
        "from google.colab import drive\n",
        "drive.mount('/content/drive')"
      ]
    },
    {
      "cell_type": "code",
      "source": [
        "RECORDINGS_FOLDER = '/content/drive/MyDrive/Meet Recordings'\n"
      ],
      "metadata": {
        "id": "QPyhObtxIT0G"
      },
      "execution_count": 3,
      "outputs": []
    },
    {
      "cell_type": "code",
      "source": [
        "import os\n",
        "\n",
        "entries = os.listdir(RECORDINGS_FOLDER)\n",
        "\n",
        "print(entries[6])"
      ],
      "metadata": {
        "colab": {
          "base_uri": "https://localhost:8080/"
        },
        "id": "vk41KdAGId6Z",
        "outputId": "9d990a44-557f-46a3-bad9-5f0be828faf0"
      },
      "execution_count": 4,
      "outputs": [
        {
          "output_type": "stream",
          "name": "stdout",
          "text": [
            "adj-sdco-zab (2024-10-16 16:39 GMT-4)\n"
          ]
        }
      ]
    },
    {
      "cell_type": "code",
      "source": [
        "video_filepath = f'/content/drive/MyDrive/Meet Recordings/{entries[6]}'\n",
        "audio_filepath = '/content/drive/MyDrive/Meet Recordings/meeting_audio.mp3'\n"
      ],
      "metadata": {
        "id": "jhP5YDiRLj81"
      },
      "execution_count": 21,
      "outputs": []
    },
    {
      "cell_type": "code",
      "source": [
        "!ffmpeg -i \"{video_filepath}\" -q:a 0 -map a \"{audio_filepath}\" -y\n"
      ],
      "metadata": {
        "colab": {
          "base_uri": "https://localhost:8080/"
        },
        "collapsed": true,
        "id": "-Eqc0o16L_RC",
        "outputId": "060438c9-f293-4d1a-e66b-c41f642f5fee"
      },
      "execution_count": 23,
      "outputs": [
        {
          "output_type": "stream",
          "name": "stdout",
          "text": [
            "ffmpeg version 4.4.2-0ubuntu0.22.04.1 Copyright (c) 2000-2021 the FFmpeg developers\n",
            "  built with gcc 11 (Ubuntu 11.2.0-19ubuntu1)\n",
            "  configuration: --prefix=/usr --extra-version=0ubuntu0.22.04.1 --toolchain=hardened --libdir=/usr/lib/x86_64-linux-gnu --incdir=/usr/include/x86_64-linux-gnu --arch=amd64 --enable-gpl --disable-stripping --enable-gnutls --enable-ladspa --enable-libaom --enable-libass --enable-libbluray --enable-libbs2b --enable-libcaca --enable-libcdio --enable-libcodec2 --enable-libdav1d --enable-libflite --enable-libfontconfig --enable-libfreetype --enable-libfribidi --enable-libgme --enable-libgsm --enable-libjack --enable-libmp3lame --enable-libmysofa --enable-libopenjpeg --enable-libopenmpt --enable-libopus --enable-libpulse --enable-librabbitmq --enable-librubberband --enable-libshine --enable-libsnappy --enable-libsoxr --enable-libspeex --enable-libsrt --enable-libssh --enable-libtheora --enable-libtwolame --enable-libvidstab --enable-libvorbis --enable-libvpx --enable-libwebp --enable-libx265 --enable-libxml2 --enable-libxvid --enable-libzimg --enable-libzmq --enable-libzvbi --enable-lv2 --enable-omx --enable-openal --enable-opencl --enable-opengl --enable-sdl2 --enable-pocketsphinx --enable-librsvg --enable-libmfx --enable-libdc1394 --enable-libdrm --enable-libiec61883 --enable-chromaprint --enable-frei0r --enable-libx264 --enable-shared\n",
            "  libavutil      56. 70.100 / 56. 70.100\n",
            "  libavcodec     58.134.100 / 58.134.100\n",
            "  libavformat    58. 76.100 / 58. 76.100\n",
            "  libavdevice    58. 13.100 / 58. 13.100\n",
            "  libavfilter     7.110.100 /  7.110.100\n",
            "  libswscale      5.  9.100 /  5.  9.100\n",
            "  libswresample   3.  9.100 /  3.  9.100\n",
            "  libpostproc    55.  9.100 / 55.  9.100\n",
            "Input #0, mov,mp4,m4a,3gp,3g2,mj2, from '/content/drive/MyDrive/Meet Recordings/dix-terf-qxz (2024-10-20 02:12 GMT-4)':\n",
            "  Metadata:\n",
            "    major_brand     : isom\n",
            "    minor_version   : 512\n",
            "    compatible_brands: isomiso2avc1mp41\n",
            "    encoder         : Google\n",
            "  Duration: 00:20:26.96, start: 0.000000, bitrate: 534 kb/s\n",
            "  Stream #0:0(und): Video: h264 (High) (avc1 / 0x31637661), yuv420p, 1280x720, 402 kb/s, 24 fps, 24 tbr, 12288 tbn, 48 tbc (default)\n",
            "    Metadata:\n",
            "      handler_name    : VideoHandler\n",
            "      vendor_id       : [0][0][0][0]\n",
            "  Stream #0:1(und): Audio: aac (LC) (mp4a / 0x6134706D), 48000 Hz, stereo, fltp, 128 kb/s (default)\n",
            "    Metadata:\n",
            "      handler_name    : SoundHandler\n",
            "      vendor_id       : [0][0][0][0]\n",
            "Stream mapping:\n",
            "  Stream #0:1 -> #0:0 (aac (native) -> mp3 (libmp3lame))\n",
            "Press [q] to stop, [?] for help\n",
            "Output #0, mp3, to '/content/drive/MyDrive/Meet Recordings/meeting_audio.mp3':\n",
            "  Metadata:\n",
            "    major_brand     : isom\n",
            "    minor_version   : 512\n",
            "    compatible_brands: isomiso2avc1mp41\n",
            "    TSSE            : Lavf58.76.100\n",
            "  Stream #0:0(und): Audio: mp3, 48000 Hz, stereo, fltp (default)\n",
            "    Metadata:\n",
            "      handler_name    : SoundHandler\n",
            "      vendor_id       : [0][0][0][0]\n",
            "      encoder         : Lavc58.134.100 libmp3lame\n",
            "size=   23692kB time=00:20:26.90 bitrate= 158.2kbits/s speed=50.9x    \n",
            "video:0kB audio:23692kB subtitle:0kB other streams:0kB global headers:0kB muxing overhead: 0.001401%\n"
          ]
        }
      ]
    },
    {
      "cell_type": "code",
      "source": [
        "import torch\n",
        "from transformers import pipeline, AutoModelForSpeechSeq2Seq, AutoProcessor"
      ],
      "metadata": {
        "id": "R0gVnzA-M_Ow"
      },
      "execution_count": 24,
      "outputs": []
    },
    {
      "cell_type": "code",
      "source": [
        "AUDIO_MODEL = \"openai/whisper-medium\"\n",
        "print(\"Loading ASR model...\")\n",
        "speech_model = AutoModelForSpeechSeq2Seq.from_pretrained(\n",
        "    AUDIO_MODEL,\n",
        "    torch_dtype=torch.float16,\n",
        "    low_cpu_mem_usage=True\n",
        ")\n",
        "speech_model.to('cuda')\n",
        "processor = AutoProcessor.from_pretrained(AUDIO_MODEL)\n",
        "print(\"Model loaded!\")\n",
        "\n",
        "\n",
        "\n"
      ],
      "metadata": {
        "colab": {
          "base_uri": "https://localhost:8080/"
        },
        "id": "UtX2IAdtOleP",
        "outputId": "d6381be3-4f17-419c-d540-9299bed9c604"
      },
      "execution_count": 25,
      "outputs": [
        {
          "output_type": "stream",
          "name": "stdout",
          "text": [
            "Loading ASR model...\n",
            "Model loaded!\n"
          ]
        }
      ]
    },
    {
      "cell_type": "code",
      "source": [
        "asr_pipeline = pipeline(\n",
        "    \"automatic-speech-recognition\",\n",
        "    model=speech_model,\n",
        "    tokenizer=processor.tokenizer,\n",
        "    feature_extractor=processor.feature_extractor,\n",
        "    torch_dtype=torch.float16,\n",
        "    device=0,\n",
        "    return_timestamps=True\n",
        ")"
      ],
      "metadata": {
        "colab": {
          "base_uri": "https://localhost:8080/"
        },
        "id": "FHsvKj7ZQYIt",
        "outputId": "9c3951e2-81f3-4b70-8931-4c7a804298a3"
      },
      "execution_count": 26,
      "outputs": [
        {
          "output_type": "stream",
          "name": "stderr",
          "text": [
            "Device set to use cuda:0\n"
          ]
        }
      ]
    },
    {
      "cell_type": "code",
      "source": [
        "def transcribe_audio(audio_path):\n",
        "    print(f\"Transcribing: {audio_path}\")\n",
        "    result = asr_pipeline(audio_path)\n",
        "    transcript = result[\"text\"]\n",
        "    print(\"Transcription completed:\")\n",
        "    print(transcript)\n",
        "    return transcript\n",
        "\n",
        "transcript = transcribe_audio(audio_filepath)"
      ],
      "metadata": {
        "colab": {
          "base_uri": "https://localhost:8080/"
        },
        "collapsed": true,
        "id": "iCbh6oyxQiML",
        "outputId": "710cfb3e-3618-41bd-d237-9ea177149612"
      },
      "execution_count": 27,
      "outputs": [
        {
          "output_type": "stream",
          "name": "stdout",
          "text": [
            "Transcribing: /content/drive/MyDrive/Meet Recordings/meeting_audio.mp3\n"
          ]
        },
        {
          "output_type": "stream",
          "name": "stderr",
          "text": [
            "/usr/local/lib/python3.11/dist-packages/transformers/models/whisper/generation_whisper.py:512: FutureWarning: The input name `inputs` is deprecated. Please make sure to use `input_features` instead.\n",
            "  warnings.warn(\n"
          ]
        },
        {
          "output_type": "stream",
          "name": "stdout",
          "text": [
            "Transcription completed:\n",
            " I will start recording, close that. Now you go to column, column. Now you go here, and you start your recording. OK. All right. So in three, two, one, go. Hello, everyone. I am Subankar Banerjee. I am doing a PhD in University of Maryland, College Park. This work I have done with my advisor, Professor Ulukush. So today I'm going to present my work, minimizing the age of information in an energy harvesting scheduler with redless codes. So in this work, we consider a source. The source simply governs a random process which this monitor wants to monitor. So for that, we have a sampler here. The job of the sampler is to sample a packet and transmit that packet to the monitor. So here, sampler and transmitter can be thought of as one block together. So sampler can act as transmitter as well. So sampler is equipped with, so we consider that this sampler is equipped with the energy harvesting battery. So we consider a slotted time in this world and we consider that each and every time slot this battery generates an energy packet with some probability that we'll discuss later. So this feedback channel we consider instantaneous and error-free. So the channel between the sampler and the monitor is erroneous. So to combat that error, the samplers, we consider that the sampler employs a rateless code in this system model. What is a rateless code? So for rateless code, the sampler will code a packet with L coded subpacks. And the monitor can only decode a packet when it receives all the L coded subpacks. And after receiving all the L-coded sub-packets and decoding the packet successfully, the edge of the monitor will drop. So next, we'll show in a figure that how these things are working. So if you see in this figure, at time slot 2, so this circle thing is simply saying arrival of an energy packet. And these green boxes are saying the successful transmission. So here you can see at t equal to 2, an energy packet arrives to the battery. And the sampler sample a packet and transmit the first subpacket. So this example is for l equal to 2. So each packet is coded with two subpacks. So here the battery receives or generates an energy. And the sampler samples a packet and transmit the first packet, but it does not go to the meter. Again, at time t equal to 4, an energy arrives to the battery. And the sampler sample a packet and transmit the first packet. And it goes to the monitor successfully. That's why this green box. Here, there is no arrival of energy. So the sampler cannot do anything because without the energy, it cannot transmit or it cannot sample a new packet. Here, the sampler or the battery receives an unit of energy and it decides to transmit the second sub-packet of this packet. So remember, each packet is coded into two sub-packs. So here, the first sub-packet is delivered successfully to the monitor. Here the second sub-packet is delivered to the monitor successfully. And the age of the monitor will drops to the generation time of this packet, which was here, right? So it will drop to 3. Here, here, so the age will drop down to 3. And again, the battery receives an unit of energy here. And it transmits the first sub-packet. and it goes to the monitor successfully. So consecutive two time slots, no energy arrivals. Here again, some energy arrival occurs, but the sampler decides to print this packet. Remember that each packet is coated with two subpacks. So here, the first subpocket is already successfully gone to the monitor. And here, the sampler could have transmit the second subpocket of this packet or can print the packet and sample a new packet and transmit the first sub-packet of the new sample packet. So that is what exactly the sampler is doing here. It is printing the first sub-packet here. It is completely printing the packet and sampling a new packet and transmitting that packet by using this unit of energy. And again, at the next time slot, the battery again receives the energy and the sampler transmits the second sub-packet of this packet and the age drops down to 2 because the packet age is 2, right? Okay, so generation time was here, so it will drop down to 2, the age of the monitor. Okay, so this is the system model. Now for this work, we consider the probability of successful transmission Q being strictly greater than 0, the probability of energy generation being P strictly greater than 0, the number of sub-packets or coded sub-packets for a packet is two, we consider unit size battery. So this unit size battery and this L can be extended to any arbitrary number in our future work. So for this work, we restrict ourselves only for L equal to 2 and unit size battery. So at the end of the day, we want to find, we want to solve these problems. We want to find a policy which minimizes the average age of the system. So where pi is simply a policy and capital pi is the set of all causal policies. So we look only for the causal policies. So what is the motivation behind this work? So there are two kind of questions that we are asking. So the first question is, if the sampler has no packet and the battery has energy, what the sampler should do? Should it sample a new packet as soon as the battery has some energy or should it wait for some time to sample a new packet? So it can be like age dependent or something like that. Okay, so and the second question is suppose there is a successful transmission of the first sub packet to the monitor and the battery receives or has one unit of energy, what it should do? Should it stay idle? That means do nothing, save the energy for future or should it print the first sub packet and sample a new sub packet or transmit the second sub packet of the first sub packet which is already get transmitted to the monitor. What it should do? So these are the questions that we will discuss later. We will find the optimal policy by answering these questions. So we formulate our problem with Markov decision process. So the state space is simply this this s with this tuple v1 v2 cd. v1 is simply the edge of the monitor, v2 is the edge of the packet at the sampler, v2 equal to infinity simply saying that there is no packet at the sampler, c is simply an indicator variable which can take value 0 or 1, 0 means no subpocket has delivered to the monitor, 1 means one subpocket has delivered to the monitor, d is again another indicator variable which is saying d equal to 0 means no energy at the battery. One means there is a there is a need energy at the battery. So the action can take 0, 1 or 2. 0 means so if the sampler is empty that means if there is no packet at the sampler A equal to 0 is simply saying that the sampler will stay idle. A equal to 1 implies that the sampler samples a new packet and transmit that the first packet of that packet obviously. And if the sampler has a packet then A equal to 0 again simply says stay idle. A equal to 1 1 means drops the current packet, sample, and transmitting a new packet. A equal to 2 means keeps transmitting the currently available packet. And A equal to 1 and A equal to 2 cost 1 unit of energy, and A equal to 0 cost no energy at all. Got it. Start from you. So the cost of the MDP for a action and state pair S A, C S A simply V1. The transition probability from S to S dash under action A is P A S S dash. So we want to, we can reformulate the whole problem in the MDP setup with this one. So the first theorem is simply saying that there exists a stationary policy which is optimal for this problem. What is a stationary policy? Stationary policy is a policy which is independent of the time and only depends on the state of the system. So this theorem is simply saying that there exists a stationary policy which is optimal for this problem. OK, so next we discuss few lemmas and some theorems, which will be helpful to find the optimal policy. These are some structural result of an optimal policy. So the first lemma is quite intuitive. It is saying that if the state of the system is V1, V2, 0, 1. What does it mean? It means that if the edge of the monitor is V1, edge of the packet is V2, and there is no sub-packet at the monitor or there is no sub-packet received by the monitor successfully for this packet for which the edge is V2. And if we have one unit of energy, we should never keep transmitting this packet because Because there is no sub-packet delivered to the monitor for this particular packet. So it is simply saying that this lemma is saying that A equal to 2 cannot be optimal for this kind of states. Only A equal to 0 or A equal to either A equal to 0 or A equal to 1 can be optimal for this kind of states. So which is kind of intuitive. Because if you if because if there is no successful transmission for the first sub-packet, you can always drop the packet sample a new one with the same cost. Right? So that was the intuition behind this lemma. And the second intuition is, second lemma is simply saying that, so we already know from this lemma that for this kind of states, a equal to 2 cannot be optimal. So either a equal to 1 or a equal to 0 is optimal. It is saying that the optimal action, which is either a equal to 1 or a equal to 0, is independent of the age of the packet, which is v2. So it is simply saying that if a equal to 1 or a equal to 0 is optimal for these states, then for these states also, equal to 1 or equal to 0 is optimal. So, v2 dash can be anything. Okay, so only v1 is fixed v2 can be anything. Okay, so this lemma is quite important to find the structure of an optimal policy. So, this is saying that between action a equal to 2 or a equal to 0, if a equal to 0 is strictly better or as good as a equal to 2 for these states, then action 2 cannot be optimal for these states. So, what it is saying? So, we are simply ignoring the action a equal to 1. So it is there. It is some underline action. Let's say you are only comparing between these two actions a equal to 0 or a equal to 2. So at some point if for these states if we use action a equal to 0 then let's see that from this state it will go to this state right v1 plus 1 v2 plus 1 1 1. So it will always go to this state and it is saying that for this state I should not use action a equal to 2. So that means if at some point I use action a equal to 0, then again the action a equal to 2 will be, we can be optimal after using action a equal to 1 at some point in the future. So that is the thing which will be used a lot for future theorems to prove future theorems in our paper. Okay, so this lemma is again intuitive. It is saying that for a state like this, action A equal to 1 cannot be optimal. Why it is intuitive? It is simply saying that the edge of the packet is 1. So I just sampled a packet and the first packet gets delivered. I have a unit of energy and the edge of the monitor is V1. So if I just sample a packet and the first sub-packet is got delivered, I did not even give chance to the second sub-packet to be able to get transmitted to the monitor. So if I use A equal to 1, that means I just sample a packet, the first subpacket goes to the monitor. So I should give a chance to the second subpacket also to go to the monitor. That's why a equal to 1 cannot be optimal. Either a equal to 2 or a equal to 0 is optimal. So this is quite intuitive, this lemma. Okay, now this theorem is saying some threshold structure property of an optimal policy on the edge of the monitor, given the fact that the edge of the packet is fixed. So it is saying that, so this threshold structure is between action equal to 2 or equal to 1. So it is saying that if for this state, keep transmitting the second sub-packet was optimal rather than dropping the packet and sample a new packet, then if I fix the edge of the packet, if I increase the edge of the monitor, then the same thing is true for that state also. So, this is simply a threshold structure on the edge of the monitor, keeping the edge of the packet as a constant. Okay, so for the next of the, next for next all the theorem and lemmas and all the results we present in this paper, we consider that the edge of the monitor is bounded by a large number k. Okay, so this theorem is simply saying a threshold structure on the edge of the monitor when there is no packet at the sampler. That's why it is infinity for large edge of the monitor. So it is saying that if action equal to one is optimal for these states, that means there is no packet at the sampler, edge of the monitor is V1. Then for V1 dash, where V1 dash is greater than equal to V1, that means the edge of the monitor is higher than V1. For that state also, action equal to one is optimal. So this is for large V1. So there exists a V1, there exists a large V1, after which there exists a threshold policy on the edge of the monitor. So this is not for all V1. So from simulation, we see that this is true for all V1. But theoretically, we cannot prove it for all V1. We can only prove for large V1. Later, we will see that we'll assume that it is true for all V1 and prove some optimality in result for some particular policy. So now we consider one type of policies, And we'll later discuss its optimality. So now I'll go directly to this figure. This figure simply explains that policy. So what is that policy? If I have an energy, I'll not use that energy. If I have an energy, I'll not use it exactly that time. I'll wait for some time. I'll wait for this amount of time till the edge of the monitor reaches or crosses this particular threshold. When the edge of the monitor crosses this threshold or reaches this particular threshold, after that, I will sample a new packet whenever the sampler, whenever the battery has an unit of energy. I'll do that till there is a successful transmission on the first subpacket. So see here the age process is threshold. The sampler tries to sample and transmit a new packet, but it doesn't go. Again, it sample here a new packet, not transmitting this packet, throwing this packet which was sampled here, sample and transmit a new packet, again no successful transmission. Here again, an energy arrival occurs, sample and transmit a new packet and transmit the first sub-packet. It goes through successfully. then it waits for some amount of time so that the second subpacket of this packet can go through. So after this time, which is two, it simply drops the packet, and then again sample a new packet till there is a successful transmission. After that, it gives some time for the second subpacket to go through. Now, this is simply the threshold on the edge of the packet. And we'll see, we consider that this threshold increases with time. So here, you can, in the figure, you can see it is two, here it is three. So we'll do this process, we'll keep doing this process till there is full transmission of both the sub-packages. Then one renewal interval will end and new renewal interval will start. So this assumption is simply saying that the threshold structure on the edge of the monitor when there is no packet at the sampler is true for all V1. So after this particular assumption, we show that there exists a policy with this structure, which is optimal. So now later, so next we consider a policy which is lower complex policy, where we simply consider that these thresholds to be equal. So we just have to find two thresholds. This is the original threshold and this equal threshold thing. So for this arbitrary thresholds, we find the average age expression and we optimize it by doing excessive search because our age is bounded by capital K, okay. So here we have some simulation results. The these figures are simply we get by running MDP value iteration, relative value iteration. And these things are very low complex heuristics. So as we can see that as probability of successful transmission increases, the heuristic policy is performing as good as the optimal policy is also true when the energy level rate increases. So that we can see from this figure. So now some concluding remarks. So in this work, we study the optimal sampling or transmission policy for a sampler equipped with an energy harvesting battery and where the sampler employs a rate-less code to combat the channel error. So if the system state is this, action two cannot be optimal. Only action equal to 0 or equal to 1 can be optimal. And an optimal action is independent of the age of the packet. For this kind of states, action a equal to 1 cannot be optimal. For these states, if action a equal to 0 is as good or better than action a equal to 2, then for this state also action equal to 2 cannot be optimal. For a fixed v2, there exists a threshold structure of an optimal policy on v1 that is edge of the monitor. For large v1, there exists a threshold structure of an optimal policy on the edge of the monitor. When sampler has no packet, that means infinity. The edge of the packet is infinity. So based on this structure, we propose an optimal policy. Then we propose a low complex heuristic. And we compare its performance with the optimal policy by doing a simulation. That is all for my presentation. Thank you for listening to my presentation. If you have any doubts or questions, you can email me to my email ID. OK, so thank you. All right. Thank you, guys. Thank you. That is my friend. All right. Let's go to what happened in between? Since there is not another person on the call, Google Meet was like, OK, since there's no one else, can we just stop the?\n"
          ]
        }
      ]
    },
    {
      "cell_type": "code",
      "source": [
        "from transformers import AutoTokenizer, AutoModelForCausalLM, BitsAndBytesConfig\n"
      ],
      "metadata": {
        "id": "EZn8uS9fRW_3"
      },
      "execution_count": 28,
      "outputs": []
    },
    {
      "cell_type": "code",
      "source": [
        "LLAMA_MODEL = \"meta-llama/Meta-Llama-3.1-8B-Instruct\"\n"
      ],
      "metadata": {
        "id": "auLWmDJzRd3L"
      },
      "execution_count": 29,
      "outputs": []
    },
    {
      "cell_type": "code",
      "source": [
        "quant_config = BitsAndBytesConfig(\n",
        "    load_in_4bit=True,\n",
        "    bnb_4bit_use_double_quant=True,\n",
        "    bnb_4bit_compute_dtype=torch.bfloat16,\n",
        "    bnb_4bit_quant_type=\"nf4\"\n",
        ")\n"
      ],
      "metadata": {
        "id": "vxiD5Ka-RmfR"
      },
      "execution_count": 30,
      "outputs": []
    },
    {
      "cell_type": "code",
      "source": [
        "tokenizer = AutoTokenizer.from_pretrained(LLAMA_MODEL)\n",
        "if tokenizer.pad_token is None:\n",
        "    tokenizer.pad_token = tokenizer.eos_token\n",
        "\n",
        "model = AutoModelForCausalLM.from_pretrained(\n",
        "    LLAMA_MODEL,\n",
        "    device_map=\"auto\",\n",
        "    quantization_config=quant_config\n",
        ")\n"
      ],
      "metadata": {
        "colab": {
          "base_uri": "https://localhost:8080/",
          "height": 49,
          "referenced_widgets": [
            "a1defbbe644444f79dae77bd85467246",
            "9b5dce4b118a47eb9b0da5c5ff360648",
            "efc1be3d20d04f15a273a67f7dad1e2e",
            "1cf53a1624e84a9aa9198d0198dd9c32",
            "5bae0244ac2e4fc18d7d97833648c969",
            "89be09564b80422b83f971da4fa54565",
            "20da259ca2a5420389840fb82f4dd603",
            "0f65d2b27ccd440fb6c8c3c4e9f480ca",
            "50bde7fa198a4d69a73e5416b1b64a4c",
            "e69777dbf31841239439a900c2831ce5",
            "83cd5e3fc95048f1bf1a6bf7ec9344ad"
          ]
        },
        "id": "2Ice7cq_SL1J",
        "outputId": "13126d46-1a18-4b90-9c33-c8e88800e67c"
      },
      "execution_count": 31,
      "outputs": [
        {
          "output_type": "display_data",
          "data": {
            "text/plain": [
              "Loading checkpoint shards:   0%|          | 0/4 [00:00<?, ?it/s]"
            ],
            "application/vnd.jupyter.widget-view+json": {
              "version_major": 2,
              "version_minor": 0,
              "model_id": "a1defbbe644444f79dae77bd85467246"
            }
          },
          "metadata": {}
        }
      ]
    },
    {
      "cell_type": "code",
      "source": [
        "def generate_minutes(transcript_text):\n",
        "    \"\"\"\n",
        "    Generate meeting minutes in markdown format from a transcript.\n",
        "    The minutes include a summary, key discussion points, takeaways, and action items.\n",
        "    \"\"\"\n",
        "    prompt = (\n",
        "        \"You are an assistant that produces meeting minutes from transcripts. \"\n",
        "        \"Please generate meeting minutes in markdown format that strictly follow the template below:\\n\\n\"\n",
        "        \"### Meeting Minutes\\n\\n\"\n",
        "        \"**Summary:**\\n\"\n",
        "        \"- [Provide a concise summary of the meeting]\\n\\n\"\n",
        "        \"**Discussion Points:**\\n\"\n",
        "        \"- [List each discussion point with details]\\n\\n\"\n",
        "        \"**Takeaways:**\\n\"\n",
        "        \"- [List key takeaways from the meeting]\\n\\n\"\n",
        "        \"**Action Items:**\\n\"\n",
        "        \"- [List action items along with the designated owners]\\n\\n\"\n",
        "        \"Now, generate the meeting minutes for the following transcript:\\n\\n\" + transcript_text +\n",
        "        \"\\n\\n### MEETING MINUTES START\\n\"\n",
        "    )\n",
        "\n",
        "    inputs = tokenizer(prompt, return_tensors=\"pt\").to(\"cuda\")\n",
        "\n",
        "    output_ids = model.generate(\n",
        "        **inputs,\n",
        "        max_new_tokens=1024,\n",
        "        do_sample=True,\n",
        "        temperature=0.7\n",
        "    )\n",
        "    minutes = tokenizer.decode(output_ids[0], skip_special_tokens=True)\n",
        "    return minutes\n",
        "\n",
        "minutes_markdown = generate_minutes(transcript)\n",
        "print(\"Generated Meeting Minutes:\")\n",
        "print(minutes_markdown)"
      ],
      "metadata": {
        "colab": {
          "base_uri": "https://localhost:8080/"
        },
        "collapsed": true,
        "id": "LlwEzTxyU55I",
        "outputId": "2e1be96a-4e28-4a3c-b377-6ada9aeb73bf"
      },
      "execution_count": 38,
      "outputs": [
        {
          "output_type": "stream",
          "name": "stderr",
          "text": [
            "Setting `pad_token_id` to `eos_token_id`:128001 for open-end generation.\n"
          ]
        },
        {
          "output_type": "stream",
          "name": "stdout",
          "text": [
            "Generated Meeting Minutes:\n",
            "You are an assistant that produces meeting minutes from transcripts. Please generate meeting minutes in markdown format that strictly follow the template below:\n",
            "\n",
            "### Meeting Minutes\n",
            "\n",
            "**Summary:**\n",
            "- [Provide a concise summary of the meeting]\n",
            "\n",
            "**Discussion Points:**\n",
            "- [List each discussion point with details]\n",
            "\n",
            "**Takeaways:**\n",
            "- [List key takeaways from the meeting]\n",
            "\n",
            "**Action Items:**\n",
            "- [List action items along with the designated owners]\n",
            "\n",
            "Now, generate the meeting minutes for the following transcript:\n",
            "\n",
            " I will start recording, close that. Now you go to column, column. Now you go here, and you start your recording. OK. All right. So in three, two, one, go. Hello, everyone. I am Subankar Banerjee. I am doing a PhD in University of Maryland, College Park. This work I have done with my advisor, Professor Ulukush. So today I'm going to present my work, minimizing the age of information in an energy harvesting scheduler with redless codes. So in this work, we consider a source. The source simply governs a random process which this monitor wants to monitor. So for that, we have a sampler here. The job of the sampler is to sample a packet and transmit that packet to the monitor. So here, sampler and transmitter can be thought of as one block together. So sampler can act as transmitter as well. So sampler is equipped with, so we consider that this sampler is equipped with the energy harvesting battery. So we consider a slotted time in this world and we consider that each and every time slot this battery generates an energy packet with some probability that we'll discuss later. So this feedback channel we consider instantaneous and error-free. So the channel between the sampler and the monitor is erroneous. So to combat that error, the samplers, we consider that the sampler employs a rateless code in this system model. What is a rateless code? So for rateless code, the sampler will code a packet with L coded subpacks. And the monitor can only decode a packet when it receives all the L coded subpacks. And after receiving all the L-coded sub-packets and decoding the packet successfully, the edge of the monitor will drop. So next, we'll show in a figure that how these things are working. So if you see in this figure, at time slot 2, so this circle thing is simply saying arrival of an energy packet. And these green boxes are saying the successful transmission. So here you can see at t equal to 2, an energy packet arrives to the battery. And the sampler sample a packet and transmit the first subpacket. So this example is for l equal to 2. So each packet is coded with two subpacks. So here the battery receives or generates an energy. And the sampler samples a packet and transmit the first packet, but it does not go to the meter. Again, at time t equal to 4, an energy arrives to the battery. And the sampler sample a packet and transmit the first packet. And it goes to the monitor successfully. That's why this green box. Here, there is no arrival of energy. So the sampler cannot do anything because without the energy, it cannot transmit or it cannot sample a new packet. Here, the sampler or the battery receives an unit of energy and it decides to transmit the second sub-packet of this packet. So remember, each packet is coded into two sub-packs. So here, the first sub-packet is delivered successfully to the monitor. Here the second sub-packet is delivered to the monitor successfully. And the age of the monitor will drops to the generation time of this packet, which was here, right? So it will drop to 3. Here, here, so the age will drop down to 3. And again, the battery receives an unit of energy here. And it transmits the first sub-packet. and it goes to the monitor successfully. So consecutive two time slots, no energy arrivals. Here again, some energy arrival occurs, but the sampler decides to print this packet. Remember that each packet is coated with two subpacks. So here, the first subpocket is already successfully gone to the monitor. And here, the sampler could have transmit the second subpocket of this packet or can print the packet and sample a new packet and transmit the first sub-packet of the new sample packet. So that is what exactly the sampler is doing here. It is printing the first sub-packet here. It is completely printing the packet and sampling a new packet and transmitting that packet by using this unit of energy. And again, at the next time slot, the battery again receives the energy and the sampler transmits the second sub-packet of this packet and the age drops down to 2 because the packet age is 2, right? Okay, so generation time was here, so it will drop down to 2, the age of the monitor. Okay, so this is the system model. Now for this work, we consider the probability of successful transmission Q being strictly greater than 0, the probability of energy generation being P strictly greater than 0, the number of sub-packets or coded sub-packets for a packet is two, we consider unit size battery. So this unit size battery and this L can be extended to any arbitrary number in our future work. So for this work, we restrict ourselves only for L equal to 2 and unit size battery. So at the end of the day, we want to find, we want to solve these problems. We want to find a policy which minimizes the average age of the system. So where pi is simply a policy and capital pi is the set of all causal policies. So we look only for the causal policies. So what is the motivation behind this work? So there are two kind of questions that we are asking. So the first question is, if the sampler has no packet and the battery has energy, what the sampler should do? Should it sample a new packet as soon as the battery has some energy or should it wait for some time to sample a new packet? So it can be like age dependent or something like that. Okay, so and the second question is suppose there is a successful transmission of the first sub packet to the monitor and the battery receives or has one unit of energy, what it should do? Should it stay idle? That means do nothing, save the energy for future or should it print the first sub packet and sample a new sub packet or transmit the second sub packet of the first sub packet which is already get transmitted to the monitor. What it should do? So these are the questions that we will discuss later. We will find the optimal policy by answering these questions. So we formulate our problem with Markov decision process. So the state space is simply this this s with this tuple v1 v2 cd. v1 is simply the edge of the monitor, v2 is the edge of the packet at the sampler, v2 equal to infinity simply saying that there is no packet at the sampler, c is simply an indicator variable which can take value 0 or 1, 0 means no subpocket has delivered to the monitor, 1 means one subpocket has delivered to the monitor, d is again another indicator variable which is saying d equal to 0 means no energy at the battery. One means there is a there is a need energy at the battery. So the action can take 0, 1 or 2. 0 means so if the sampler is empty that means if there is no packet at the sampler A equal to 0 is simply saying that the sampler will stay idle. A equal to 1 implies that the sampler samples a new packet and transmit that the first packet of that packet obviously. And if the sampler has a packet then A equal to 0 again simply says stay idle. A equal to 1 1 means drops the current packet, sample, and transmitting a new packet. A equal to 2 means keeps transmitting the currently available packet. And A equal to 1 and A equal to 2 cost 1 unit of energy, and A equal to 0 cost no energy at all. Got it. Start from you. So the cost of the MDP for a action and state pair S A, C S A simply V1. The transition probability from S to S dash under action A is P A S S dash. So we want to, we can reformulate the whole problem in the MDP setup with this one. So the first theorem is simply saying that there exists a stationary policy which is optimal for this problem. What is a stationary policy? Stationary policy is a policy which is independent of the time and only depends on the state of the system. So this theorem is simply saying that there exists a stationary policy which is optimal for this problem. OK, so next we discuss few lemmas and some theorems, which will be helpful to find the optimal policy. These are some structural result of an optimal policy. So the first lemma is quite intuitive. It is saying that if the state of the system is V1, V2, 0, 1. What does it mean? It means that if the edge of the monitor is V1, edge of the packet is V2, and there is no sub-packet at the monitor or there is no sub-packet received by the monitor successfully for this packet for which the edge is V2. And if we have one unit of energy, we should never keep transmitting this packet because Because there is no sub-packet delivered to the monitor for this particular packet. So it is simply saying that this lemma is saying that A equal to 2 cannot be optimal for this kind of states. Only A equal to 0 or A equal to either A equal to 0 or A equal to 1 can be optimal for this kind of states. So which is kind of intuitive. Because if you if because if there is no successful transmission for the first sub-packet, you can always drop the packet sample a new one with the same cost. Right? So that was the intuition behind this lemma. And the second intuition is, second lemma is simply saying that, so we already know from this lemma that for this kind of states, a equal to 2 cannot be optimal. So either a equal to 1 or a equal to 0 is optimal. It is saying that the optimal action, which is either a equal to 1 or a equal to 0, is independent of the age of the packet, which is v2. So it is simply saying that if a equal to 1 or a equal to 0 is optimal for these states, then for these states also, equal to 1 or equal to 0 is optimal. So, v2 dash can be anything. Okay, so only v1 is fixed v2 can be anything. Okay, so this lemma is quite important to find the structure of an optimal policy. So, this is saying that between action a equal to 2 or a equal to 0, if a equal to 0 is strictly better or as good as a equal to 2 for these states, then action 2 cannot be optimal for these states. So, what it is saying? So, we are simply ignoring the action a equal to 1. So it is there. It is some underline action. Let's say you are only comparing between these two actions a equal to 0 or a equal to 2. So at some point if for these states if we use action a equal to 0 then let's see that from this state it will go to this state right v1 plus 1 v2 plus 1 1 1. So it will always go to this state and it is saying that for this state I should not use action a equal to 2. So that means if at some point I use action a equal to 0, then again the action a equal to 2 will be, we can be optimal after using action a equal to 1 at some point in the future. So that is the thing which will be used a lot for future theorems to prove future theorems in our paper. Okay, so this lemma is again intuitive. It is saying that for a state like this, action A equal to 1 cannot be optimal. Why it is intuitive? It is simply saying that the edge of the packet is 1. So I just sampled a packet and the first packet gets delivered. I have a unit of energy and the edge of the monitor is V1. So if I just sample a packet and the first sub-packet is got delivered, I did not even give chance to the second sub-packet to be able to get transmitted to the monitor. So if I use A equal to 1, that means I just sample a packet, the first subpacket goes to the monitor. So I should give a chance to the second subpacket also to go to the monitor. That's why a equal to 1 cannot be optimal. Either a equal to 2 or a equal to 0 is optimal. So this is quite intuitive, this lemma. Okay, now this theorem is saying some threshold structure property of an optimal policy on the edge of the monitor, given the fact that the edge of the packet is fixed. So it is saying that, so this threshold structure is between action equal to 2 or equal to 1. So it is saying that if for this state, keep transmitting the second sub-packet was optimal rather than dropping the packet and sample a new packet, then if I fix the edge of the packet, if I increase the edge of the monitor, then the same thing is true for that state also. So, this is simply a threshold structure on the edge of the monitor, keeping the edge of the packet as a constant. Okay, so for the next of the, next for next all the theorem and lemmas and all the results we present in this paper, we consider that the edge of the monitor is bounded by a large number k. Okay, so this theorem is simply saying a threshold structure on the edge of the monitor when there is no packet at the sampler. That's why it is infinity for large edge of the monitor. So it is saying that if action equal to one is optimal for these states, that means there is no packet at the sampler, edge of the monitor is V1. Then for V1 dash, where V1 dash is greater than equal to V1, that means the edge of the monitor is higher than V1. For that state also, action equal to one is optimal. So this is for large V1. So there exists a V1, there exists a large V1, after which there exists a threshold policy on the edge of the monitor. So this is not for all V1. So from simulation, we see that this is true for all V1. But theoretically, we cannot prove it for all V1. We can only prove for large V1. Later, we will see that we'll assume that it is true for all V1 and prove some optimality in result for some particular policy. So now we consider one type of policies, And we'll later discuss its optimality. So now I'll go directly to this figure. This figure simply explains that policy. So what is that policy? If I have an energy, I'll not use that energy. If I have an energy, I'll not use it exactly that time. I'll wait for some time. I'll wait for this amount of time till the edge of the monitor reaches or crosses this particular threshold. When the edge of the monitor crosses this threshold or reaches this particular threshold, after that, I will sample a new packet whenever the sampler, whenever the battery has an unit of energy. I'll do that till there is a successful transmission on the first subpacket. So see here the age process is threshold. The sampler tries to sample and transmit a new packet, but it doesn't go. Again, it sample here a new packet, not transmitting this packet, throwing this packet which was sampled here, sample and transmit a new packet, again no successful transmission. Here again, an energy arrival occurs, sample and transmit a new packet and transmit the first sub-packet. It goes through successfully. then it waits for some amount of time so that the second subpacket of this packet can go through. So after this time, which is two, it simply drops the packet, and then again sample a new packet till there is a successful transmission. After that, it gives some time for the second subpacket to go through. Now, this is simply the threshold on the edge of the packet. And we'll see, we consider that this threshold increases with time. So here, you can, in the figure, you can see it is two, here it is three. So we'll do this process, we'll keep doing this process till there is full transmission of both the sub-packages. Then one renewal interval will end and new renewal interval will start. So this assumption is simply saying that the threshold structure on the edge of the monitor when there is no packet at the sampler is true for all V1. So after this particular assumption, we show that there exists a policy with this structure, which is optimal. So now later, so next we consider a policy which is lower complex policy, where we simply consider that these thresholds to be equal. So we just have to find two thresholds. This is the original threshold and this equal threshold thing. So for this arbitrary thresholds, we find the average age expression and we optimize it by doing excessive search because our age is bounded by capital K, okay. So here we have some simulation results. The these figures are simply we get by running MDP value iteration, relative value iteration. And these things are very low complex heuristics. So as we can see that as probability of successful transmission increases, the heuristic policy is performing as good as the optimal policy is also true when the energy level rate increases. So that we can see from this figure. So now some concluding remarks. So in this work, we study the optimal sampling or transmission policy for a sampler equipped with an energy harvesting battery and where the sampler employs a rate-less code to combat the channel error. So if the system state is this, action two cannot be optimal. Only action equal to 0 or equal to 1 can be optimal. And an optimal action is independent of the age of the packet. For this kind of states, action a equal to 1 cannot be optimal. For these states, if action a equal to 0 is as good or better than action a equal to 2, then for this state also action equal to 2 cannot be optimal. For a fixed v2, there exists a threshold structure of an optimal policy on v1 that is edge of the monitor. For large v1, there exists a threshold structure of an optimal policy on the edge of the monitor. When sampler has no packet, that means infinity. The edge of the packet is infinity. So based on this structure, we propose an optimal policy. Then we propose a low complex heuristic. And we compare its performance with the optimal policy by doing a simulation. That is all for my presentation. Thank you for listening to my presentation. If you have any doubts or questions, you can email me to my email ID. OK, so thank you. All right. Thank you, guys. Thank you. That is my friend. All right. Let's go to what happened in between? Since there is not another person on the call, Google Meet was like, OK, since there's no one else, can we just stop the?\n",
            "\n",
            "### MEETING MINUTES START\n",
            "### Summary:\n",
            "- The speaker presented their PhD research on minimizing the age of information in an energy harvesting scheduler with rateless codes.\n",
            "\n",
            "### Discussion Points:\n",
            "- The speaker explained the system model, where a sampler is equipped with an energy harvesting battery and employs a rateless code to combat channel errors.\n",
            "- The speaker discussed the Markov decision process (MDP) formulation of the problem, including the state and action spaces.\n",
            "- The speaker presented lemmas and theorems that provide structural results on the optimal policy, including threshold structures on the edge of the monitor and the age of the packet.\n",
            "- The speaker proposed an optimal policy based on the threshold structure and a low-complexity heuristic policy.\n",
            "- The speaker compared the performance of the heuristic policy with the optimal policy through simulations.\n",
            "\n",
            "### Takeaways:\n",
            "- The speaker's research focuses on minimizing the age of information in an energy harvesting scheduler with rateless codes.\n",
            "- The optimal policy involves a threshold structure on the edge of the monitor and the age of the packet.\n",
            "- The low-complexity heuristic policy performs well in simulations, especially when the probability of successful transmission increases.\n",
            "\n",
            "### Action Items:\n",
            "- Review the speaker's presentation and research paper for further understanding.\n",
            "- Investigate the potential applications of the speaker's research in real-world scenarios.\n",
            "- Explore the possibility of collaborating with the speaker on future research projects.\n"
          ]
        }
      ]
    },
    {
      "cell_type": "code",
      "source": [
        "import smtplib\n",
        "from email.mime.text import MIMEText\n"
      ],
      "metadata": {
        "id": "6vBkk85eVz4W"
      },
      "execution_count": 39,
      "outputs": []
    },
    {
      "cell_type": "code",
      "source": [
        "def send_email(subject, body, recipient, sender_email, sender_password):\n",
        "    msg = MIMEText(body, \"plain\")\n",
        "    msg[\"Subject\"] = subject\n",
        "    msg[\"From\"] = sender_email\n",
        "    msg[\"To\"] = recipient\n",
        "\n",
        "    with smtplib.SMTP(\"smtp.gmail.com\", 587) as server:\n",
        "        server.starttls()\n",
        "        server.login(sender_email, sender_password)\n",
        "        server.sendmail(sender_email, [recipient], msg.as_string())\n",
        "    print(f\"Email sent to {recipient}.\")\n",
        "\n",
        "separator = \"### MEETING MINUTES START\"\n",
        "if separator in minutes_markdown:\n",
        "    cleaned_minutes = minutes_markdown.split(separator, 1)[1].strip()\n",
        "else:\n",
        "    cleaned_minutes = minutes_markdown\n",
        "\n",
        "SENDER_EMAIL = \"sarangshibu98@gmail.com\"\n",
        "SENDER_PASSWORD = \"**********************\"\n",
        "RECIPIENT_EMAIL = \"sarangshibu98@gmail.com\"\n",
        "\n",
        "send_email(\"Meeting Minutes\", cleaned_minutes, RECIPIENT_EMAIL, SENDER_EMAIL, SENDER_PASSWORD)\n",
        "\n",
        "\n",
        "\n"
      ],
      "metadata": {
        "colab": {
          "base_uri": "https://localhost:8080/"
        },
        "id": "oBjrn5hGV4NL",
        "outputId": "31faca8d-12b2-4e99-d262-e0d80be20532"
      },
      "execution_count": 40,
      "outputs": [
        {
          "output_type": "stream",
          "name": "stdout",
          "text": [
            "Email sent to sarangshibu98@gmail.com.\n"
          ]
        }
      ]
    }
  ]
}